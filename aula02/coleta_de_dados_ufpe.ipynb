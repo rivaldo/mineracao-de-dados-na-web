{
 "cells": [
  {
   "cell_type": "code",
   "execution_count": 41,
   "metadata": {},
   "outputs": [],
   "source": [
    "import requests\n",
    "from bs4 import BeautifulSoup\n"
   ]
  },
  {
   "cell_type": "code",
   "execution_count": 62,
   "metadata": {},
   "outputs": [],
   "source": [
    "def baixar_pagina_html(response):\n",
    "    #url = 'https://repositorio.ufpe.br/simple-search?query='+tema\n",
    "    #response = requests.get('https://repositorio.ufpe.br/simple-search?query='+tema, allow_redirects=True)\n",
    "    with open('output_query_request.html', 'wb') as fb:\n",
    "     fb.write(response.content)\n",
    "   "
   ]
  },
  {
   "cell_type": "code",
   "execution_count": 63,
   "metadata": {},
   "outputs": [],
   "source": [
    "def pegar_link_unico(tag_table):\n",
    "    tags_a = tag_table.find_all(name='a')\n",
    "    link = tags_a[0]['href']\n",
    "    #print(link)\n",
    "    return link"
   ]
  },
  {
   "cell_type": "code",
   "execution_count": 87,
   "metadata": {},
   "outputs": [],
   "source": [
    "def achar_link_das_teses(response):\n",
    "    \n",
    "    soup = BeautifulSoup(response.text.strip(), 'html.parser')\n",
    "    \n",
    "#    tags = soup.find_all(name='table')\n",
    "#    tag_table = tags[0]\n",
    "    tags_table = soup.find_all(name='table', attrs={'class': 'itemDisplayTable'}) \n",
    "    info_table = tags_table[0]\n",
    "   \n",
    "    return info_table"
   ]
  },
  {
   "cell_type": "code",
   "execution_count": 71,
   "metadata": {},
   "outputs": [],
   "source": [
    "def extracao_de_texto(soup):\n",
    "    print(soup)\n",
    "    tags_table = soup.find_all(name='table', attrs={'class': 'itemDisplayTable'})\n",
    "    print(len(tags_table))\n",
    "    info_table = tags_table[0]\n",
    "    return info_table"
   ]
  },
  {
   "cell_type": "code",
   "execution_count": 66,
   "metadata": {},
   "outputs": [],
   "source": [
    "def criar_dicionario(info_table):\n",
    "    all_titles = info_table.find_all(name='td', attrs={'class': 'dc_title'})\n",
    "    title = all_titles[-1].contents[0]\n",
    "\n",
    "    all_abst = info_table.find_all(name='td', attrs={'class': 'dc_description_abstract'})\n",
    "    abst = all_abst[-1].contents[0]\n",
    "\n",
    "    all_subj = info_table.find_all(name='td', attrs={'class': 'dc_subject'})\n",
    "    subj = all_subj[-1].contents[0]\n",
    "\n",
    "    dict_thesis_info = {}\n",
    "    dict_thesis_info[0] = {\n",
    "        'title': title,\n",
    "        'abstract': abst,\n",
    "        'keywords': subj.split(';'),\n",
    "        'query': 'previdencia'\n",
    "    }\n",
    "    for k, v in dict_thesis_info[0].items():\n",
    "        print(k)\n",
    "        print(v)\n",
    "        print()\n",
    "        print(dict_thesis_info)"
   ]
  },
  {
   "cell_type": "code",
   "execution_count": 88,
   "metadata": {},
   "outputs": [
    {
     "name": "stdout",
     "output_type": "stream",
     "text": [
      "previdencia\n"
     ]
    },
    {
     "ename": "IndexError",
     "evalue": "list index out of range",
     "output_type": "error",
     "traceback": [
      "\u001b[1;31m---------------------------------------------------------------------------\u001b[0m",
      "\u001b[1;31mIndexError\u001b[0m                                Traceback (most recent call last)",
      "\u001b[1;32mc:\\git\\cesar-school\\mineracao-de-dados-na-web\\aula02\\coleta_de_dados_ufpe.ipynb Célula: 7\u001b[0m in \u001b[0;36m<cell line: 3>\u001b[1;34m()\u001b[0m\n\u001b[0;32m      <a href='vscode-notebook-cell:/c%3A/git/cesar-school/mineracao-de-dados-na-web/aula02/coleta_de_dados_ufpe.ipynb#W1sZmlsZQ%3D%3D?line=4'>5</a>\u001b[0m response \u001b[39m=\u001b[39m requests\u001b[39m.\u001b[39mget(\u001b[39m'\u001b[39m\u001b[39mhttps://repositorio.ufpe.br/simple-search?query=\u001b[39m\u001b[39m'\u001b[39m\u001b[39m+\u001b[39mtema, allow_redirects\u001b[39m=\u001b[39m\u001b[39mTrue\u001b[39;00m)\n\u001b[0;32m      <a href='vscode-notebook-cell:/c%3A/git/cesar-school/mineracao-de-dados-na-web/aula02/coleta_de_dados_ufpe.ipynb#W1sZmlsZQ%3D%3D?line=5'>6</a>\u001b[0m baixar_pagina_html(response)\n\u001b[1;32m----> <a href='vscode-notebook-cell:/c%3A/git/cesar-school/mineracao-de-dados-na-web/aula02/coleta_de_dados_ufpe.ipynb#W1sZmlsZQ%3D%3D?line=6'>7</a>\u001b[0m info_table \u001b[39m=\u001b[39m achar_link_das_teses(response)\n",
      "\u001b[1;32mc:\\git\\cesar-school\\mineracao-de-dados-na-web\\aula02\\coleta_de_dados_ufpe.ipynb Célula: 7\u001b[0m in \u001b[0;36machar_link_das_teses\u001b[1;34m(response)\u001b[0m\n\u001b[0;32m      <a href='vscode-notebook-cell:/c%3A/git/cesar-school/mineracao-de-dados-na-web/aula02/coleta_de_dados_ufpe.ipynb#W1sZmlsZQ%3D%3D?line=4'>5</a>\u001b[0m \u001b[39m#    tags = soup.find_all(name='table')\u001b[39;00m\n\u001b[0;32m      <a href='vscode-notebook-cell:/c%3A/git/cesar-school/mineracao-de-dados-na-web/aula02/coleta_de_dados_ufpe.ipynb#W1sZmlsZQ%3D%3D?line=5'>6</a>\u001b[0m \u001b[39m#    tag_table = tags[0]\u001b[39;00m\n\u001b[0;32m      <a href='vscode-notebook-cell:/c%3A/git/cesar-school/mineracao-de-dados-na-web/aula02/coleta_de_dados_ufpe.ipynb#W1sZmlsZQ%3D%3D?line=6'>7</a>\u001b[0m     tags_table \u001b[39m=\u001b[39m soup\u001b[39m.\u001b[39mfind_all(name\u001b[39m=\u001b[39m\u001b[39m'\u001b[39m\u001b[39mtable\u001b[39m\u001b[39m'\u001b[39m, attrs\u001b[39m=\u001b[39m{\u001b[39m'\u001b[39m\u001b[39mclass\u001b[39m\u001b[39m'\u001b[39m: \u001b[39m'\u001b[39m\u001b[39mitemDisplayTable\u001b[39m\u001b[39m'\u001b[39m})\n\u001b[1;32m----> <a href='vscode-notebook-cell:/c%3A/git/cesar-school/mineracao-de-dados-na-web/aula02/coleta_de_dados_ufpe.ipynb#W1sZmlsZQ%3D%3D?line=8'>9</a>\u001b[0m     info_table \u001b[39m=\u001b[39m tags_table[\u001b[39m0\u001b[39;49m]\n\u001b[0;32m     <a href='vscode-notebook-cell:/c%3A/git/cesar-school/mineracao-de-dados-na-web/aula02/coleta_de_dados_ufpe.ipynb#W1sZmlsZQ%3D%3D?line=9'>10</a>\u001b[0m     \u001b[39m#print('-----------soup----------',soup)\u001b[39;00m\n\u001b[0;32m     <a href='vscode-notebook-cell:/c%3A/git/cesar-school/mineracao-de-dados-na-web/aula02/coleta_de_dados_ufpe.ipynb#W1sZmlsZQ%3D%3D?line=10'>11</a>\u001b[0m     \u001b[39mreturn\u001b[39;00m info_table\n",
      "\u001b[1;31mIndexError\u001b[0m: list index out of range"
     ]
    }
   ],
   "source": [
    "temas = ['previdencia']#, 'economia', 'idoso', 'inativos', 'aposentadoria']\n",
    "\n",
    "for tema in temas:\n",
    "    print(tema)\n",
    "    response = requests.get('https://repositorio.ufpe.br/simple-search?query='+tema, allow_redirects=True)\n",
    "    baixar_pagina_html(response)\n",
    "    info_table = achar_link_das_teses(response)\n",
    "    \n",
    "    \n",
    "    \n",
    "    \n"
   ]
  }
 ],
 "metadata": {
  "kernelspec": {
   "display_name": "Python 3.10.8 64-bit (microsoft store)",
   "language": "python",
   "name": "python3"
  },
  "language_info": {
   "codemirror_mode": {
    "name": "ipython",
    "version": 3
   },
   "file_extension": ".py",
   "mimetype": "text/x-python",
   "name": "python",
   "nbconvert_exporter": "python",
   "pygments_lexer": "ipython3",
   "version": "3.10.8"
  },
  "orig_nbformat": 4,
  "vscode": {
   "interpreter": {
    "hash": "993488204300109512b5111f778de09622e32455d1cf861bd0a83607c31d291a"
   }
  }
 },
 "nbformat": 4,
 "nbformat_minor": 2
}
